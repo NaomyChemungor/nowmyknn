{
 "cells": [
  {
   "cell_type": "code",
   "execution_count": 1,
   "id": "9cbaeadf-cd7e-46ba-9f7f-d7579c57b504",
   "metadata": {},
   "outputs": [],
   "source": [
    "import tensorflow as tf\n",
    "import numpy as np\n",
    "import matplotlib.pyplot as plt"
   ]
  },
  {
   "cell_type": "code",
   "execution_count": 2,
   "id": "7dfe8cc7-41c3-45c3-ba2d-5cecaca41d2f",
   "metadata": {},
   "outputs": [
    {
     "name": "stdout",
     "output_type": "stream",
     "text": [
      "Downloading data from https://storage.googleapis.com/tensorflow/tf-keras-datasets/mnist.npz\n",
      "11490434/11490434 [==============================] - 2s 0us/step\n"
     ]
    }
   ],
   "source": [
    "# Load the MNIST dataset\n",
    "mnist = tf.keras.datasets.mnist\n",
    "\n",
    "# Split the dataset into training and testing sets\n",
    "(X_train, y_train), (X_test, y_test) = mnist.load_data()"
   ]
  },
  {
   "cell_type": "code",
   "execution_count": 3,
   "id": "875b3b5a-2692-4153-90d0-aaddf8ead06c",
   "metadata": {},
   "outputs": [],
   "source": [
    "# Normalize the pixel values to the range -1 to 1\n",
    "X_train = (X_train.astype(np.float32) / 127.5) - 1.0\n",
    "X_test = (X_test.astype(np.float32) / 127.5) - 1.0"
   ]
  },
  {
   "cell_type": "code",
   "execution_count": 4,
   "id": "66e80281-1fe3-47cb-9e66-5143df894a7c",
   "metadata": {},
   "outputs": [
    {
     "name": "stdout",
     "output_type": "stream",
     "text": [
      "(60000, 28, 28)\n",
      "(60000,)\n",
      "(10000, 28, 28)\n",
      "(10000,)\n",
      "<class 'numpy.ndarray'>\n"
     ]
    }
   ],
   "source": [
    "# Display dataset shapes\n",
    "print(X_train.shape)\n",
    "print(y_train.shape)\n",
    "print(X_test.shape)\n",
    "print(y_test.shape)\n",
    "print(type(X_train))"
   ]
  },
  {
   "cell_type": "code",
   "execution_count": 5,
   "id": "356f0eb5-5000-4bb7-9634-153b9bca999b",
   "metadata": {},
   "outputs": [
    {
     "name": "stdout",
     "output_type": "stream",
     "text": [
      "(60000, 784)\n",
      "(10000, 784)\n"
     ]
    }
   ],
   "source": [
    "# Flatten the original images\n",
    "X_train_flat = X_train.reshape(X_train.shape[0], -1)\n",
    "X_test_flat = X_test.reshape(X_test.shape[0], -1)\n",
    "print(X_train_flat.shape)\n",
    "print(X_test_flat.shape)\n",
    "#print(X_train_flat[0])"
   ]
  },
  {
   "cell_type": "code",
   "execution_count": 1,
   "id": "ac5a166b-aa7f-48f5-80e1-d1666d1efea2",
   "metadata": {},
   "outputs": [
    {
     "name": "stdout",
     "output_type": "stream",
     "text": [
      "Test accuracy: 0.9861111111111112\n"
     ]
    }
   ],
   "source": [
    "#KNN #Naomy\n",
    "import numpy as np\n",
    "from sklearn.datasets import load_digits\n",
    "from sklearn.model_selection import train_test_split\n",
    "from sklearn.metrics import accuracy_score\n",
    "\n",
    "def knn_predict(X_train, y_train, X_test, k):\n",
    "    num_test = X_test.shape[0]\n",
    "    y_pred = np.zeros(num_test, dtype=int)\n",
    "\n",
    "    for i in range(num_test):\n",
    "        distances = np.sqrt(np.sum((X_train - X_test[i])**2, axis=1))\n",
    "        nearest_indices = np.argsort(distances)[:k]\n",
    "        nearest_labels = y_train[nearest_indices]\n",
    "        y_pred[i] = np.argmax(np.bincount(nearest_labels))\n",
    "\n",
    "    return y_pred\n",
    "\n",
    "# Load the MNIST dataset\n",
    "digits = load_digits()\n",
    "\n",
    "# Split the dataset into training and testing sets\n",
    "X_train, X_test, y_train, y_test = train_test_split(digits.data, digits.target, test_size=0.2, random_state=42)\n",
    "\n",
    "# Make predictions using KNN\n",
    "k = 5  # Number of neighbors\n",
    "y_pred = knn_predict(X_train, y_train, X_test, k)\n",
    "\n",
    "# Calculate the accuracy of the KNN classifier\n",
    "accuracy = accuracy_score(y_test, y_pred)\n",
    "print(\"Test accuracy:\", accuracy)"
   ]
  },
  {
   "cell_type": "code",
   "execution_count": null,
   "id": "96a0b285-461c-46c8-8805-e64b155453f8",
   "metadata": {},
   "outputs": [],
   "source": []
  }
 ],
 "metadata": {
  "kernelspec": {
   "display_name": "Python 3 (ipykernel)",
   "language": "python",
   "name": "python3"
  },
  "language_info": {
   "codemirror_mode": {
    "name": "ipython",
    "version": 3
   },
   "file_extension": ".py",
   "mimetype": "text/x-python",
   "name": "python",
   "nbconvert_exporter": "python",
   "pygments_lexer": "ipython3",
   "version": "3.11.5"
  }
 },
 "nbformat": 4,
 "nbformat_minor": 5
}
